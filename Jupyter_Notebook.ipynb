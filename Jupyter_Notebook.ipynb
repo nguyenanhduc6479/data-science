{
 "cells": [
  {
   "cell_type": "markdown",
   "metadata": {},
   "source": [
    "<center>\n",
    "    <img src=\"https://s3-api.us-geo.objectstorage.softlayer.net/cf-courses-data/CognitiveClass/Logos/organization_logo/organization_logo.png\" width=\"300\" alt=\"cognitiveclass.ai logo\"  />\n",
    "</center>\n"
   ]
  },
  {
   "cell_type": "markdown",
   "metadata": {},
   "source": [
    "#### Add your code below following the instructions given in the course\n"
   ]
  },
  {
   "cell_type": "markdown",
   "metadata": {},
   "source": [
    "<h1>My Jupyter Notebook on IBM Watson Studio</h1>"
   ]
  },
  {
   "cell_type": "markdown",
   "metadata": {},
   "source": [
    "<h4>Nguyễn Anh Đức</h4>"
   ]
  },
  {
   "cell_type": "markdown",
   "metadata": {},
   "source": [
    "_I am interest in data science because I would love to know what data could bring to us in every life's aspect_"
   ]
  },
  {
   "cell_type": "markdown",
   "metadata": {},
   "source": [
    "<h3> this code should print \"IBM data science\"</h3>"
   ]
  },
  {
   "cell_type": "code",
   "execution_count": 2,
   "metadata": {},
   "outputs": [
    {
     "name": "stdout",
     "output_type": "stream",
     "text": [
      "IBM data science\n"
     ]
    }
   ],
   "source": [
    "print(\"IBM data science\")"
   ]
  },
  {
   "cell_type": "markdown",
   "metadata": {},
   "source": [
    "- Main bullet point 1\n",
    "     - Sub bullet point 1\n",
    "     - Sub bullet point 2\n",
    "- main bullet point 2\n",
    "     - Sub bullet point 3\n",
    "     - Sub bullet point 4\n",
    "1. Numbered item 1\n",
    "     1. Substep1\n",
    "     2. Substep2\n",
    "2. Numbered item 2\n",
    "     1. Substep3\n",
    "     2. Substep4\n",
    "\n",
    "<img src=\"data:image/png;base64,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\" alt=\"Alt text that describes the graphic\" title=\"Title text\" />"
   ]
  }
 ],
 "metadata": {
  "kernelspec": {
   "display_name": "Python",
   "language": "python",
   "name": "conda-env-python-py"
  },
  "language_info": {
   "codemirror_mode": {
    "name": "ipython",
    "version": 3
   },
   "file_extension": ".py",
   "mimetype": "text/x-python",
   "name": "python",
   "nbconvert_exporter": "python",
   "pygments_lexer": "ipython3",
   "version": "3.7.12"
  }
 },
 "nbformat": 4,
 "nbformat_minor": 4
}
